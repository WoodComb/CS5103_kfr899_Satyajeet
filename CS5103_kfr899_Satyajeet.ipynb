{
 "cells": [
  {
   "cell_type": "markdown",
   "metadata": {},
   "source": [
    "# These cells contain the working code. Scroll down to enter input."
   ]
  },
  {
   "cell_type": "code",
   "execution_count": 50,
   "metadata": {},
   "outputs": [],
   "source": [
    "#  The function that returns the frequencies of unique words in a string. DO NOT TOUCH! \n",
    "def WordFreq(string):\n",
    "    text = RemovePunc(string)\n",
    "    \n",
    "    # Get the unique words and their frequencies in two seperate lists\n",
    "    words = text.lower().split()\n",
    "    unique_words = set(words)\n",
    "    frequencies = [words.count(word) for word in unique_words]\n",
    "    \n",
    "    # Combine the lists and sort them in descending order\n",
    "    word_frequencies = list(zip(unique_words, frequencies))\n",
    "    word_frequencies.sort(reverse = True, key=lambda a: a[1])\n",
    "    \n",
    "    return word_frequencies"
   ]
  },
  {
   "cell_type": "code",
   "execution_count": 51,
   "metadata": {},
   "outputs": [],
   "source": [
    "#  Remove puncuations\n",
    "def RemovePunc(text):\n",
    "    puncuations = '''!()-[]{};:''\"\"\\,<>./?@#$%^&*_~'''\n",
    "    for element in text: \n",
    "        if element in puncuations: \n",
    "            text = text.replace(element, \"\")\n",
    "        else:\n",
    "            continue\n",
    "    return text"
   ]
  },
  {
   "cell_type": "code",
   "execution_count": 52,
   "metadata": {},
   "outputs": [],
   "source": [
    "#  Count the number of lines\n",
    "def LineCount(string):\n",
    "    lines = len(string.split('\\n'))\n",
    "    return lines"
   ]
  },
  {
   "cell_type": "code",
   "execution_count": 53,
   "metadata": {},
   "outputs": [],
   "source": [
    "#  Count the total number of characters\n",
    "def CharCount(string):\n",
    "    # Remove puncuations\n",
    "    text = RemovePunc(string)\n",
    "    \n",
    "    # Count characters in the string\n",
    "    char_dump = \"\".join(text.split())\n",
    "    return len(char_dump)"
   ]
  },
  {
   "cell_type": "code",
   "execution_count": 54,
   "metadata": {},
   "outputs": [],
   "source": [
    "# Replace a certain word with a new one\n",
    "def Replace(old_word, new_word, string):\n",
    "    text = RemovePunc(string)\n",
    "    \n",
    "    # Get the unique words\n",
    "    words = text.split()\n",
    "    for i in range(len(words)):\n",
    "        if old_word == words[i]:\n",
    "            words[i] = new_word\n",
    "    return \" \".join(words)"
   ]
  },
  {
   "cell_type": "markdown",
   "metadata": {},
   "source": [
    "# Unit Tests"
   ]
  },
  {
   "cell_type": "code",
   "execution_count": 55,
   "metadata": {},
   "outputs": [],
   "source": [
    "string1 = \"One fish. Two fish. Red fish. Blue fish.\"\n",
    "\n",
    "string2 = \"Would you like them here or there? I would not like them here or there. I would not like them anywhere.\"\n",
    "\n",
    "string3 = \"Congratulations! Today is your day. You're off to Great Places! You're off and away!\"\n",
    "\n",
    "string4 = '''Harry Potter was a highly unusual boy in many ways. For one thing, he hated the summer holidays\n",
    "more than any other time of year. For another, he really wanted to do his homework, but was forced to do it in\n",
    "secret, in the dead of the night. And he also happened to be a wizard.'''\n",
    "\n",
    "string5 = '''In my younger and more vulnerable years my father gave me some advice\n",
    "that I've been turning over in my mind ever since.'''\n",
    "\n",
    "string6 = '''Alice was beginning to get very tired of sitting by her sister on the bank, and of having nothing\n",
    "to do: once or twice she had peeped into the book her sister was reading, but it had no pictures or conversations\n",
    "in it, \"and what is the use of a book,\" thought Alice \"without pictures or conversation?'''\n",
    "\n",
    "string7 = '''When he was nearly thirteen, my brother Jem got his arm badly broken at the elbow. When it healed, \n",
    "and Jem's fears of never being able to play football were assuaged, he was seldom self-conscious about his injury. \n",
    "His left arm was somewhat shorter than his right; when he stood or walked, the back of his hand was at right\n",
    "angles to his body, his thumb parallel to his thigh.'''\n",
    "\n",
    "string8 = \"There are more things in Heaven and Earth, Horatio, than are dreamt of in your philosophy.\""
   ]
  },
  {
   "cell_type": "code",
   "execution_count": 56,
   "metadata": {},
   "outputs": [],
   "source": [
    "def test_replace():\n",
    "    assert (Replace('fish', 'penguin', string1)) == \"One penguin Two penguin Red penguin Blue penguin\"\n",
    "    assert (Replace('Would', 'Wont', string2)) == \"Wont you like them here or there I would not like them here or there I would not like them anywhere\"\n",
    "    assert (Replace('wou', 'cou', string3)) == \"Congratulations Today is your day Youre off to Great Places Youre off and away\"\n",
    "    assert (Replace('more', 'less', string8)) == \"There are less things in Heaven and Earth Horatio than are dreamt of in your philosophy\"  "
   ]
  },
  {
   "cell_type": "code",
   "execution_count": 57,
   "metadata": {},
   "outputs": [],
   "source": [
    "def test_remove_punc():\n",
    "    assert (RemovePunc(string1)) == \"One fish Two fish Red fish Blue fish\"\n",
    "    assert (RemovePunc(string2)) == \"Would you like them here or there I would not like them here or there I would not like them anywhere\"\n",
    "    assert (RemovePunc(string3)) == \"Congratulations Today is your day Youre off to Great Places Youre off and away\"\n",
    "    assert (RemovePunc(string4)) == '''Harry Potter was a highly unusual boy in many ways For one thing he hated the summer holidays\n",
    "more than any other time of year For another he really wanted to do his homework but was forced to do it in\n",
    "secret in the dead of the night And he also happened to be a wizard'''\n",
    "    assert (RemovePunc(string5)) == '''In my younger and more vulnerable years my father gave me some advice\n",
    "that Ive been turning over in my mind ever since'''\n",
    "    assert (RemovePunc(string6)) == '''Alice was beginning to get very tired of sitting by her sister on the bank and of having nothing\n",
    "to do once or twice she had peeped into the book her sister was reading but it had no pictures or conversations\n",
    "in it and what is the use of a book thought Alice without pictures or conversation'''\n",
    "    assert (RemovePunc(string7)) == '''When he was nearly thirteen my brother Jem got his arm badly broken at the elbow When it healed \n",
    "and Jems fears of never being able to play football were assuaged he was seldom selfconscious about his injury \n",
    "His left arm was somewhat shorter than his right when he stood or walked the back of his hand was at right\n",
    "angles to his body his thumb parallel to his thigh'''\n",
    "    assert (RemovePunc(string8)) == \"There are more things in Heaven and Earth Horatio than are dreamt of in your philosophy\""
   ]
  },
  {
   "cell_type": "code",
   "execution_count": 58,
   "metadata": {},
   "outputs": [],
   "source": [
    "def test_line_count():\n",
    "    assert (LineCount(string1)) == 1\n",
    "    assert (LineCount(string2)) == 1\n",
    "    assert (LineCount(string3)) == 1\n",
    "    assert (LineCount(string4)) == 3\n",
    "    assert (LineCount(string5)) == 2\n",
    "    assert (LineCount(string6)) == 3\n",
    "    assert (LineCount(string7)) == 4\n",
    "    assert (LineCount(string8)) == 1"
   ]
  },
  {
   "cell_type": "code",
   "execution_count": 59,
   "metadata": {},
   "outputs": [],
   "source": [
    "def test_char_count():\n",
    "    assert (CharCount(string1)) == 29\n",
    "    assert (CharCount(string2)) == 80\n",
    "    assert (CharCount(string3)) == 65\n",
    "    assert (CharCount(string4)) == 214\n",
    "    assert (CharCount(string5)) == 96\n",
    "    assert (CharCount(string6)) == 235\n",
    "    assert (CharCount(string7)) == 295\n",
    "    assert (CharCount(string8)) == 72"
   ]
  },
  {
   "cell_type": "code",
   "execution_count": 60,
   "metadata": {},
   "outputs": [],
   "source": [
    "# Here, we test all the modules(functions) of the program.\n",
    "test_char_count()\n",
    "test_line_count()\n",
    "test_remove_punc()\n",
    "test_replace()"
   ]
  },
  {
   "cell_type": "markdown",
   "metadata": {},
   "source": [
    "## Enter your string input (can be multi-line) in the _text_ variable, and execute the cell using Shift+Enter keys"
   ]
  },
  {
   "cell_type": "code",
   "execution_count": 61,
   "metadata": {},
   "outputs": [
    {
     "name": "stdout",
     "output_type": "stream",
     "text": [
      "Example:\n",
      "---------------------- Word Frequency ----------------------\n",
      "protagonist  :  1\n",
      "briefs  :  1\n",
      "they  :  1\n",
      "backward  :  1\n",
      "organization  :  1\n",
      "scientist  :  1\n",
      "through  :  1\n",
      "by  :  1\n",
      "him  :  1\n",
      "with  :  1\n",
      "entropy  :  1\n",
      "move  :  1\n",
      "an  :  1\n",
      "on  :  1\n",
      "meaning  :  1\n",
      "time  :  1\n",
      "the  :  1\n",
      "is  :  1\n",
      "called  :  1\n",
      "inverted  :  1\n",
      "tenet  :  1\n",
      "where  :  1\n",
      "bullets  :  1\n",
      "recruited  :  1\n",
      "------------------------------------------------------------\n",
      "Line Count:  1\n",
      "------------------------------------------------------------\n",
      "Character Count:  137\n",
      "------------------------------------------------------------\n",
      "Word to replace: Protagonist\n",
      "Replace with: Actor\n",
      "The Actor is recruited by an organization called Tenet where scientist briefs him on bullets with inverted entropy meaning they move backward through time\n"
     ]
    }
   ],
   "source": [
    "\n",
    "print(\"Example:\")\n",
    "string = '''The Protagonist is recruited by an organization called Tenet where scientist briefs him on bullets with inverted entropy meaning they move backward through time'''\n",
    "print(\"---------------------- Word Frequency ----------------------\")\n",
    "for word, frequency in WordFreq(string):\n",
    "    print(word, \" : \", frequency)\n",
    "print(\"------------------------------------------------------------\")\n",
    "print(\"Line Count: \", LineCount(string))\n",
    "print(\"------------------------------------------------------------\")\n",
    "print(\"Character Count: \", CharCount(string))\n",
    "print(\"------------------------------------------------------------\")\n",
    "print(\"Word to replace: Protagonist\\nReplace with: Actor\")\n",
    "print(Replace(\"Protagonist\", \"Actor\", string))"
   ]
  }
 ],
 "metadata": {
  "kernelspec": {
   "display_name": "Python 3",
   "language": "python",
   "name": "python3"
  },
  "language_info": {
   "codemirror_mode": {
    "name": "ipython",
    "version": 3
   },
   "file_extension": ".py",
   "mimetype": "text/x-python",
   "name": "python",
   "nbconvert_exporter": "python",
   "pygments_lexer": "ipython3",
   "version": "3.8.3"
  }
 },
 "nbformat": 4,
 "nbformat_minor": 4
}
