{
 "cells": [
  {
   "cell_type": "markdown",
   "metadata": {},
   "source": [
    "# These blocks contain the working code. Scroll down to enter input."
   ]
  },
  {
   "cell_type": "code",
   "execution_count": 7,
   "metadata": {},
   "outputs": [],
   "source": [
    "# The function that prints the frequencies of unique words in a string. DO NOT TOUCH! \n",
    "def WordFreq(string):\n",
    "    text = remove_punc(string)\n",
    "    \n",
    "    # Get the unique words and their frequencies in two seperate lists\n",
    "    words = text.lower().split()\n",
    "    unique_words = set(words)\n",
    "    frequencies = [words.count(word) for word in unique_words]\n",
    "    \n",
    "    # Combine the lists and sort them in descending order\n",
    "    word_frequencies = list(zip(unique_words, frequencies))\n",
    "    word_frequencies.sort(reverse = True, key=lambda a: a[1])\n",
    "    \n",
    "    # Print the Word - Frequency pairs\n",
    "    print(\"\\n\\n-----------------------Frequencies of unique words-----------------------\\n\")\n",
    "    for pair in word_frequencies:\n",
    "        print(pair[0], ':', pair[1])\n",
    "\n",
    "def remove_punc(text):\n",
    "    # Remove puncuations\n",
    "    puncuations = '''!()-[]{};:'\"\\,<>./?@#$%^&*_~'''\n",
    "    for element in text: \n",
    "        if element in puncuations: \n",
    "            text = text.replace(element, \"\")\n",
    "        else:\n",
    "            continue\n",
    "    return text"
   ]
  },
  {
   "cell_type": "code",
   "execution_count": 8,
   "metadata": {},
   "outputs": [],
   "source": [
    "def LineCount(string):\n",
    "    lines = len(string.split('\\n'))\n",
    "    print(\"\\n\\nTotal number of lines:  \", lines, \"\\n\")"
   ]
  },
  {
   "cell_type": "code",
   "execution_count": 11,
   "metadata": {},
   "outputs": [],
   "source": [
    "def CharCount(string):\n",
    "    # Remove puncuations\n",
    "    text = remove_punc(string)\n",
    "    \n",
    "    # Count characters in the string\n",
    "    char_dump = \"\".join(text.split())\n",
    "    print(\"\\n\\nTotal number of chartacters: \", len(char_dump))"
   ]
  },
  {
   "cell_type": "markdown",
   "metadata": {},
   "source": [
    "## Enter your string input (can be multi-line) in the _text_ variable, and execute the cell using Shift+Enter keys"
   ]
  },
  {
   "cell_type": "code",
   "execution_count": 12,
   "metadata": {},
   "outputs": [
    {
     "name": "stdout",
     "output_type": "stream",
     "text": [
      "\n",
      "\n",
      "-----------------------Frequencies of unique words-----------------------\n",
      "\n",
      "jkl : 1\n",
      "ghi : 1\n",
      "abc : 1\n",
      "def : 1\n",
      "\n",
      "\n",
      "Total number of chartacters:  12\n",
      "\n",
      "\n",
      "Total number of lines:   3 \n",
      "\n"
     ]
    }
   ],
   "source": [
    "# Enter string between the triple single-quote signs. String can be multi-line !!!!!\n",
    "string = '''abc def\n",
    "ghi\n",
    "jkl'''\n",
    "\n",
    "# Lets call the functions\n",
    "WordFreq(string)\n",
    "CharCount(string)\n",
    "LineCount(string)"
   ]
  }
 ],
 "metadata": {
  "kernelspec": {
   "display_name": "Python 3",
   "language": "python",
   "name": "python3"
  },
  "language_info": {
   "codemirror_mode": {
    "name": "ipython",
    "version": 3
   },
   "file_extension": ".py",
   "mimetype": "text/x-python",
   "name": "python",
   "nbconvert_exporter": "python",
   "pygments_lexer": "ipython3",
   "version": "3.8.3"
  }
 },
 "nbformat": 4,
 "nbformat_minor": 4
}
