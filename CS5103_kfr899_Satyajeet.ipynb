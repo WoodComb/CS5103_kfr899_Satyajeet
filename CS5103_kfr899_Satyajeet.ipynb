{
 "cells": [
  {
   "cell_type": "markdown",
   "metadata": {},
   "source": [
    "# These blocks contain the working code. Scroll down to enter input."
   ]
  },
  {
   "cell_type": "code",
   "execution_count": 1,
   "metadata": {},
   "outputs": [],
   "source": [
    "# The function that prints the frequencies of unique words in a string. DO NOT TOUCH! \n",
    "def WordFreq(string):\n",
    "    text = remove_punc(string)\n",
    "    \n",
    "    # Get the unique words and their frequencies in two seperate lists\n",
    "    words = text.lower().split()\n",
    "    unique_words = set(words)\n",
    "    frequencies = [words.count(word) for word in unique_words]\n",
    "    \n",
    "    # Combine the lists and sort them in descending order\n",
    "    word_frequencies = list(zip(unique_words, frequencies))\n",
    "    word_frequencies.sort(reverse = True, key=lambda a: a[1])\n",
    "    \n",
    "    # Print the Word - Frequency pairs\n",
    "    print(\"\\n\\n-----------------------Frequencies of unique words-----------------------\\n\")\n",
    "    for pair in word_frequencies:\n",
    "        print(pair[0], ':', pair[1])\n",
    "\n",
    "def remove_punc(text):\n",
    "    # Remove puncuations\n",
    "    puncuations = '''!()-[]{};:'\"\\,<>./?@#$%^&*_~'''\n",
    "    for element in text: \n",
    "        if element in puncuations: \n",
    "            text = text.replace(element, \"\")\n",
    "        else:\n",
    "            continue\n",
    "    return text"
   ]
  },
  {
   "cell_type": "code",
   "execution_count": 2,
   "metadata": {},
   "outputs": [],
   "source": [
    "def LineCount(string):\n",
    "    lines = len(string.split('\\n'))\n",
    "    print(\"\\n\\nTotal number of lines:  \", lines, \"\\n\")"
   ]
  },
  {
   "cell_type": "code",
   "execution_count": 3,
   "metadata": {},
   "outputs": [],
   "source": [
    "def CharCount(string):\n",
    "    # Remove puncuations\n",
    "    text = remove_punc(string)\n",
    "    \n",
    "    # Count characters in the string\n",
    "    char_dump = \"\".join(text.split())\n",
    "    char_freq = {}\n",
    "    \n",
    "    for c in char_dump:\n",
    "        if c in char_freq:\n",
    "            char_freq[c] += 1\n",
    "        else:\n",
    "            char_freq[c] = 1\n",
    "    \n",
    "    # Sort the dictionary values in descending order\n",
    "    aux = [(char_freq[key], key) for key in char_freq]\n",
    "    aux.sort(reverse=True)\n",
    "    \n",
    "    # Print the Character-Frequency pairs\n",
    "    print(\"\\n\\n-----------------------Frequencies of Characters-----------------------\\n\")\n",
    "    for f, c in aux:\n",
    "        print(c, ':', f)"
   ]
  },
  {
   "cell_type": "markdown",
   "metadata": {},
   "source": [
    "## Enter your string input (can be multi-line) in the _text_ variable, and execute the cell using Shift+Enter keys"
   ]
  },
  {
   "cell_type": "code",
   "execution_count": 4,
   "metadata": {},
   "outputs": [
    {
     "name": "stdout",
     "output_type": "stream",
     "text": [
      "\n",
      "\n",
      "-----------------------Frequencies of unique words-----------------------\n",
      "\n",
      "\n",
      "\n",
      "-----------------------Frequencies of Characters-----------------------\n",
      "\n",
      "\n",
      "\n",
      "Total number of lines:   1 \n",
      "\n"
     ]
    }
   ],
   "source": [
    "# Enter string between the triple single-quote signs. String can be multi-line !!!!!\n",
    "string = '''     '''\n",
    "\n",
    "# Lets call the functions\n",
    "WordFreq(string)\n",
    "CharCount(string)\n",
    "LineCount(string)"
   ]
  }
 ],
 "metadata": {
  "kernelspec": {
   "display_name": "Python 3",
   "language": "python",
   "name": "python3"
  },
  "language_info": {
   "codemirror_mode": {
    "name": "ipython",
    "version": 3
   },
   "file_extension": ".py",
   "mimetype": "text/x-python",
   "name": "python",
   "nbconvert_exporter": "python",
   "pygments_lexer": "ipython3",
   "version": "3.8.3"
  }
 },
 "nbformat": 4,
 "nbformat_minor": 4
}
