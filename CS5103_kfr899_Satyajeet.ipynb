{
 "cells": [
  {
   "cell_type": "markdown",
   "metadata": {},
   "source": [
    "## This section contains the working code. Scroll down to enter input."
   ]
  },
  {
   "cell_type": "code",
   "execution_count": 44,
   "metadata": {},
   "outputs": [],
   "source": [
    "# The function that prints the frequencies of unique words in a string. DO NOT TOUCH! \n",
    "def word_freq(text):\n",
    "    # Get the unique words and their frequencies in two seperate lists\n",
    "    words = text.lower().split()\n",
    "    unique_words = set(words)\n",
    "    frequencies = [words.count(word) for word in unique_words]\n",
    "    \n",
    "    # Combine the lists and sort them in descending order\n",
    "    word_frequencies = list(zip(unique_words, frequencies))\n",
    "    word_frequencies.sort(reverse = True, key=lambda a: a[1])\n",
    "    \n",
    "    # Print the Word - Frequency pairs\n",
    "    for pair in word_frequencies:\n",
    "        print(pair[0], ':', pair[1])"
   ]
  },
  {
   "cell_type": "markdown",
   "metadata": {},
   "source": [
    "### Enter your string (can be multi-line) in the text variable, and execute the cell using Shift+Enter keys"
   ]
  },
  {
   "cell_type": "code",
   "execution_count": 43,
   "metadata": {},
   "outputs": [],
   "source": [
    "# Enter string here!!!!!\n",
    "text = '''\n",
    "\n",
    "'''\n",
    "# Lets call the function\n",
    "word_freq(text)"
   ]
  }
 ],
 "metadata": {
  "kernelspec": {
   "display_name": "Python 3",
   "language": "python",
   "name": "python3"
  },
  "language_info": {
   "codemirror_mode": {
    "name": "ipython",
    "version": 3
   },
   "file_extension": ".py",
   "mimetype": "text/x-python",
   "name": "python",
   "nbconvert_exporter": "python",
   "pygments_lexer": "ipython3",
   "version": "3.8.3"
  }
 },
 "nbformat": 4,
 "nbformat_minor": 4
}
